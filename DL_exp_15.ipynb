{
  "nbformat": 4,
  "nbformat_minor": 0,
  "metadata": {
    "colab": {
      "provenance": []
    },
    "kernelspec": {
      "name": "python3",
      "display_name": "Python 3"
    },
    "language_info": {
      "name": "python"
    }
  },
  "cells": [
    {
      "cell_type": "code",
      "execution_count": 5,
      "metadata": {
        "id": "1PjvXwdpTivJ"
      },
      "outputs": [],
      "source": [
        "import numpy as np\n",
        "from keras.models import Sequential\n",
        "from keras.layers import Dense\n",
        "# XOR input data\n",
        "X = np.array([[0, 0], [0, 1], [1, 0], [1, 1]])\n",
        "# Corresponding XOR output data\n",
        "Y = np.array([[0], [1], [1], [0]])\n",
        "\n"
      ]
    },
    {
      "cell_type": "code",
      "source": [
        "# Create a sequential model\n",
        "model = Sequential()"
      ],
      "metadata": {
        "id": "LtzTUvdAdE1y"
      },
      "execution_count": 6,
      "outputs": []
    },
    {
      "cell_type": "code",
      "source": [
        "# Add a hidden layer with 8 neurons and 'relu' activation function\n",
        "model.add(Dense(8, input_dim=2, activation='relu'))"
      ],
      "metadata": {
        "id": "XK8KLsb0dEs7"
      },
      "execution_count": 7,
      "outputs": []
    },
    {
      "cell_type": "code",
      "source": [
        "# Add the output layer with 1 neuron and 'sigmoid' activation function\n",
        "model.add(Dense(1, activation='sigmoid'))\n",
        "# Compile the model using binary cross-entropy loss and Adam optimizer\n",
        "model.compile(loss='binary_crossentropy', optimizer='adam', metrics=['accuracy'])\n",
        "# Train the model for 1000 epochs\n",
        "model.fit(X, Y, epochs=1000, verbose=0)\n",
        "# Evaluate the model\n",
        "loss, accuracy = model.evaluate(X, Y)\n",
        "print(f\"Loss: {loss:.4f}, Accuracy: {accuracy:.4f}\")\n",
        "# Make predictions\n",
        "predictions = model.predict(X)\n",
        "rounded_predictions = np.round(predictions)\n",
        "print(\"Predictions:\")\n",
        "print(rounded_predictions)"
      ],
      "metadata": {
        "colab": {
          "base_uri": "https://localhost:8080/"
        },
        "id": "xeJ6vryqTnRS",
        "outputId": "c5ed61ab-0e62-4546-aac6-a3324516b25f"
      },
      "execution_count": 3,
      "outputs": [
        {
          "output_type": "stream",
          "name": "stdout",
          "text": [
            "1/1 [==============================] - 0s 137ms/step - loss: 0.2698 - accuracy: 1.0000\n",
            "Loss: 0.2698, Accuracy: 1.0000\n",
            "1/1 [==============================] - 0s 55ms/step\n",
            "Predictions:\n",
            "[[0.]\n",
            " [1.]\n",
            " [1.]\n",
            " [0.]]\n"
          ]
        }
      ]
    },
    {
      "cell_type": "code",
      "source": [],
      "metadata": {
        "id": "XSDTDkrFTnJC"
      },
      "execution_count": null,
      "outputs": []
    },
    {
      "cell_type": "code",
      "source": [],
      "metadata": {
        "id": "-WdpJcNdTnFi"
      },
      "execution_count": null,
      "outputs": []
    },
    {
      "cell_type": "code",
      "source": [],
      "metadata": {
        "id": "J-p_plmHTnCC"
      },
      "execution_count": null,
      "outputs": []
    },
    {
      "cell_type": "code",
      "source": [],
      "metadata": {
        "id": "l7EGOcKXTm96"
      },
      "execution_count": null,
      "outputs": []
    }
  ]
}